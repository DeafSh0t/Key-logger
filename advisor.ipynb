{
  "nbformat": 4,
  "nbformat_minor": 0,
  "metadata": {
    "colab": {
      "provenance": [],
      "authorship_tag": "ABX9TyNHA+SRjFll+F+z2AyBRX1G",
      "include_colab_link": true
    },
    "kernelspec": {
      "name": "python3",
      "display_name": "Python 3"
    },
    "language_info": {
      "name": "python"
    }
  },
  "cells": [
    {
      "cell_type": "markdown",
      "metadata": {
        "id": "view-in-github",
        "colab_type": "text"
      },
      "source": [
        "<a href=\"https://colab.research.google.com/github/DeafSh0t/Key-logger/blob/main/advisor.ipynb\" target=\"_parent\"><img src=\"https://colab.research.google.com/assets/colab-badge.svg\" alt=\"Open In Colab\"/></a>"
      ]
    },
    {
      "cell_type": "code",
      "source": [
        "import numpy as np\n",
        "# Input mappings\n",
        "traffic_mapping = {\"1-10k\": 5, \"10k-100k\": 10, \"100k-500k\": 20, \"500k-1M\": 25}\n",
        "employee_mapping = {\"1-50\": 2, \"50-200\": 5, \"200-500\": 8, \"500+\": 10}\n",
        "database_type_mapping = {\"No Interaction with Users\": 3, \"Partial Interaction with Users\": 7}\n",
        "database_size_mapping = {\"0-100GB\": 3, \"100-200GB\": 6, \"200-400GB\": 10, \"400+GB\": 15}\n",
        "access_layers_mapping = {3: 3, 4: 5, 5: 10}\n",
        "roles_mapping = {3: 1, 4: 3, 5: 6, 6: 8, 7: 4, 8: 5, 9: 7, 10: 9}\n",
        "database_severity_mapping = {\"Low\": 5, \"Medium\": 10, \"High\": 15}\n",
        "monitoring_mapping = {\"Partial\": 5, \"Complete\": 10}\n",
        "\n",
        "# Tool mappings with ranges\n",
        "tool_mappings = {\n",
        "    \"IDS\": {range(0, 75): \"Snort IPS\", range(75, 150): \"Suricata IPS\", range(150, 240): \"Zeek IDS\"},\n",
        "    \"IPS\": {range(0, 75): \"Snort IPS\", range(75, 150): \"Suricata IPS\", range(150, 240): \"Custom IPS\"},\n",
        "    \"Authentication Method\": {range(50, 100): \"Password-based\", range(100, 150): \"MFA\", range(150, 200): \"PKI + Biometrics\"},\n",
        "    \"Encryption\": {range(50, 100): \"AES-128\", range(100, 150): \"AES-256\", range(150, 200): \"RSA + AES-256\"},\n",
        "    \"Firewall\": {range(50, 100): \"Basic Firewall\", range(100, 150): \"Next-Gen FW\", range(150, 200): \"UTM Firewall\"},\n",
        "    \"Access Management\": {range(0, 50): \"Role-based\", range(50, 100): \"Policy-based\", range(100, 150): \"Attribute-based\"},\n",
        "    \"Rules and Regulations\": {range(0, 75): \"GDPR, ISO27001\", range(75, 140): \"GDPR, HIPAA\", range(140, 200): \"PCI DSS, SOC 2\"},\n",
        "    \"Compliance Management\": {range(0, 75): \"ISO27001\", range(75, 140): \"SOC 2\", range(140, 200): \"ISO27017\"},\n",
        "    \"Framework\": {range(50, 100): \"NIST CSF\", range(100, 150): \"COBIT\", range(150, 200): \"Zero Trust\"},\n",
        "}\n",
        "\n",
        "# Correlation weights for security components\n",
        "correlation_weights = {\n",
        "    \"IDS\": [3, 1, 1, 2, 3, 2, 3, 3],\n",
        "    \"IPS\": [3, 1, 1, 2, 3, 2, 3, 3],\n",
        "    \"Authentication Method\": [2, 2, 1, 1, 2, 3, 3, 2],\n",
        "    \"Encryption\": [2, 1, 1, 3, 1, 1, 3, 1],\n",
        "    \"Firewall\": [3, 1, 1, 2, 3, 2, 3, 3],\n",
        "    \"Access Management\": [2, 2, 1, 1, 3, 3, 2, 2],\n",
        "    \"Rules and Regulations\": [3, 3, 2, 1, 1, 2, 3, 1],\n",
        "    \"Compliance Management\": [1, 3, 2, 1, 1, 2, 3, 2],\n",
        "    \"Framework\": [2, 1, 2, 3, 1, 1, 2, 1],\n",
        "}\n",
        "\n",
        "# Prediction function\n",
        "def predict_security_components(\n",
        "    traffic, employees, database_type, database_size, access_layers, roles, db_severity, monitoring_level\n",
        "):\n",
        "    # Map inputs to scores\n",
        "    traffic_score = traffic_mapping[traffic]\n",
        "    employee_score = employee_mapping[employees]\n",
        "    db_type_score = database_type_mapping[database_type]\n",
        "    db_size_score = database_size_mapping[database_size]\n",
        "    access_layers_score = access_layers_mapping[access_layers]\n",
        "    roles_score = roles_mapping[roles]\n",
        "    db_severity_score = database_severity_mapping[db_severity]\n",
        "    monitoring_score = monitoring_mapping[monitoring_level]\n",
        "\n",
        "    # Aggregate scores\n",
        "    input_scores = [\n",
        "        traffic_score,\n",
        "        employee_score,\n",
        "        db_type_score,\n",
        "        db_size_score,\n",
        "        access_layers_score,\n",
        "        roles_score,\n",
        "        db_severity_score,\n",
        "        monitoring_score,\n",
        "    ]\n",
        "\n",
        "    # Calculate and predict\n",
        "    results = {}\n",
        "    for component, weights in correlation_weights.items():\n",
        "        weighted_sum = np.dot(weights, input_scores)\n",
        "        # Map weighted sum to tool range\n",
        "        for score_range, tool in tool_mappings[component].items():\n",
        "            if int(weighted_sum) in score_range:\n",
        "                results[component] = tool\n",
        "                break\n",
        "\n",
        "    # Include severity and monitoring explicitly\n",
        "    results[\"Database Severity\"] = db_severity\n",
        "    results[\"Monitoring Level\"] = monitoring_level\n",
        "\n",
        "    return results\n",
        "\n",
        "# Example user input\n",
        "traffic = \"100k-500k\"\n",
        "employees = \"200-500\"\n",
        "database_type = \"Partial Interaction with Users\"\n",
        "database_size = \"200-400GB\"\n",
        "access_layers = 3\n",
        "roles = 5\n",
        "db_severity = \"Medium\"\n",
        "monitoring_level = \"Complete\"\n",
        "\n",
        "# Get predictions\n",
        "output = predict_security_components(\n",
        "    traffic, employees, database_type, database_size, access_layers, roles, db_severity, monitoring_level\n",
        ")\n",
        "\n",
        "# Display results\n",
        "print(\"Predicted Security Components:\")\n",
        "for key, value in output.items():\n",
        "    print(f\"{key}: {value}\")"
      ],
      "metadata": {
        "colab": {
          "base_uri": "https://localhost:8080/"
        },
        "id": "IrLIwZqgbh1J",
        "outputId": "6ef32265-d86c-4d26-ddbf-b2aac4291081"
      },
      "execution_count": 29,
      "outputs": [
        {
          "output_type": "stream",
          "name": "stdout",
          "text": [
            "Predicted Security Components:\n",
            "IDS: Zeek IDS\n",
            "IPS: Custom IPS\n",
            "Authentication Method: MFA\n",
            "Encryption: AES-256\n",
            "Firewall: UTM Firewall\n",
            "Access Management: Attribute-based\n",
            "Rules and Regulations: PCI DSS, SOC 2\n",
            "Compliance Management: SOC 2\n",
            "Framework: COBIT\n",
            "Database Severity: Medium\n",
            "Monitoring Level: Complete\n"
          ]
        }
      ]
    }
  ]
}